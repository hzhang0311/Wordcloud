{
  "nbformat": 4,
  "nbformat_minor": 0,
  "metadata": {
    "colab": {
      "name": "Final Project.ipynb",
      "provenance": [],
      "collapsed_sections": [],
      "include_colab_link": true
    },
    "kernelspec": {
      "name": "ir",
      "display_name": "R"
    },
    "language_info": {
      "name": "R"
    }
  },
  "cells": [
    {
      "cell_type": "markdown",
      "metadata": {
        "id": "view-in-github",
        "colab_type": "text"
      },
      "source": [
        "<a href=\"https://colab.research.google.com/github/hzhang0311/Wordcloud/blob/master/Final_Project.ipynb\" target=\"_parent\"><img src=\"https://colab.research.google.com/assets/colab-badge.svg\" alt=\"Open In Colab\"/></a>"
      ]
    },
    {
      "cell_type": "code",
      "metadata": {
        "id": "hcEHpsNl6JrA"
      },
      "source": [
        "# Import dataset: use jasa1\n",
        "data(heart, package=\"survival\")\n"
      ],
      "execution_count": null,
      "outputs": []
    },
    {
      "cell_type": "code",
      "source": [
        ""
      ],
      "metadata": {
        "id": "GaEJlTLcXRtW"
      },
      "execution_count": null,
      "outputs": []
    },
    {
      "cell_type": "code",
      "metadata": {
        "id": "fm53JYxq6oAi",
        "colab": {
          "base_uri": "https://localhost:8080/",
          "height": 286
        },
        "outputId": "46d6a910-a54f-4e62-ff60-9b8043c59e16"
      },
      "source": [
        "heart1 <- heart[-which(heart$event==0 & heart$transplant==0),]\n",
        "heart1$u = ifelse(heart1$transplant == 0, heart1$stop+1, heart1$start)\n",
        "head(heart1)"
      ],
      "execution_count": null,
      "outputs": [
        {
          "output_type": "display_data",
          "data": {
            "text/plain": [
              "  start stop event age        year      surgery transplant id u \n",
              "1  0    50   1     -17.155373 0.1232033 0       0          1  51\n",
              "2  0     6   1       3.835729 0.2546201 0       0          2   7\n",
              "4  1    16   1       6.297057 0.2655715 0       1          3   1\n",
              "6 36    39   1      -7.737166 0.4900753 0       1          4  36\n",
              "7  0    18   1     -27.214237 0.6078029 0       0          5  19\n",
              "8  0     3   1       6.595483 0.7008898 0       0          6   4"
            ],
            "text/latex": "A data.frame: 6 × 9\n\\begin{tabular}{r|lllllllll}\n  & start & stop & event & age & year & surgery & transplant & id & u\\\\\n  & <dbl> & <dbl> & <dbl> & <dbl> & <dbl> & <dbl> & <fct> & <dbl> & <dbl>\\\\\n\\hline\n\t1 &  0 & 50 & 1 & -17.155373 & 0.1232033 & 0 & 0 & 1 & 51\\\\\n\t2 &  0 &  6 & 1 &   3.835729 & 0.2546201 & 0 & 0 & 2 &  7\\\\\n\t4 &  1 & 16 & 1 &   6.297057 & 0.2655715 & 0 & 1 & 3 &  1\\\\\n\t6 & 36 & 39 & 1 &  -7.737166 & 0.4900753 & 0 & 1 & 4 & 36\\\\\n\t7 &  0 & 18 & 1 & -27.214237 & 0.6078029 & 0 & 0 & 5 & 19\\\\\n\t8 &  0 &  3 & 1 &   6.595483 & 0.7008898 & 0 & 0 & 6 &  4\\\\\n\\end{tabular}\n",
            "text/markdown": "\nA data.frame: 6 × 9\n\n| <!--/--> | start &lt;dbl&gt; | stop &lt;dbl&gt; | event &lt;dbl&gt; | age &lt;dbl&gt; | year &lt;dbl&gt; | surgery &lt;dbl&gt; | transplant &lt;fct&gt; | id &lt;dbl&gt; | u &lt;dbl&gt; |\n|---|---|---|---|---|---|---|---|---|---|\n| 1 |  0 | 50 | 1 | -17.155373 | 0.1232033 | 0 | 0 | 1 | 51 |\n| 2 |  0 |  6 | 1 |   3.835729 | 0.2546201 | 0 | 0 | 2 |  7 |\n| 4 |  1 | 16 | 1 |   6.297057 | 0.2655715 | 0 | 1 | 3 |  1 |\n| 6 | 36 | 39 | 1 |  -7.737166 | 0.4900753 | 0 | 1 | 4 | 36 |\n| 7 |  0 | 18 | 1 | -27.214237 | 0.6078029 | 0 | 0 | 5 | 19 |\n| 8 |  0 |  3 | 1 |   6.595483 | 0.7008898 | 0 | 0 | 6 |  4 |\n\n",
            "text/html": [
              "<table class=\"dataframe\">\n",
              "<caption>A data.frame: 6 × 9</caption>\n",
              "<thead>\n",
              "\t<tr><th></th><th scope=col>start</th><th scope=col>stop</th><th scope=col>event</th><th scope=col>age</th><th scope=col>year</th><th scope=col>surgery</th><th scope=col>transplant</th><th scope=col>id</th><th scope=col>u</th></tr>\n",
              "\t<tr><th></th><th scope=col>&lt;dbl&gt;</th><th scope=col>&lt;dbl&gt;</th><th scope=col>&lt;dbl&gt;</th><th scope=col>&lt;dbl&gt;</th><th scope=col>&lt;dbl&gt;</th><th scope=col>&lt;dbl&gt;</th><th scope=col>&lt;fct&gt;</th><th scope=col>&lt;dbl&gt;</th><th scope=col>&lt;dbl&gt;</th></tr>\n",
              "</thead>\n",
              "<tbody>\n",
              "\t<tr><th scope=row>1</th><td> 0</td><td>50</td><td>1</td><td>-17.155373</td><td>0.1232033</td><td>0</td><td>0</td><td>1</td><td>51</td></tr>\n",
              "\t<tr><th scope=row>2</th><td> 0</td><td> 6</td><td>1</td><td>  3.835729</td><td>0.2546201</td><td>0</td><td>0</td><td>2</td><td> 7</td></tr>\n",
              "\t<tr><th scope=row>4</th><td> 1</td><td>16</td><td>1</td><td>  6.297057</td><td>0.2655715</td><td>0</td><td>1</td><td>3</td><td> 1</td></tr>\n",
              "\t<tr><th scope=row>6</th><td>36</td><td>39</td><td>1</td><td> -7.737166</td><td>0.4900753</td><td>0</td><td>1</td><td>4</td><td>36</td></tr>\n",
              "\t<tr><th scope=row>7</th><td> 0</td><td>18</td><td>1</td><td>-27.214237</td><td>0.6078029</td><td>0</td><td>0</td><td>5</td><td>19</td></tr>\n",
              "\t<tr><th scope=row>8</th><td> 0</td><td> 3</td><td>1</td><td>  6.595483</td><td>0.7008898</td><td>0</td><td>0</td><td>6</td><td> 4</td></tr>\n",
              "</tbody>\n",
              "</table>\n"
            ]
          },
          "metadata": {}
        }
      ]
    },
    {
      "cell_type": "code",
      "metadata": {
        "id": "ckAvknzI47uv"
      },
      "source": [
        "u <- heart1$u\n",
        "t <- heart1$stop\n",
        "n <- length(t)\n",
        "sigma <- heart1$event"
      ],
      "execution_count": null,
      "outputs": []
    },
    {
      "cell_type": "code",
      "source": [
        "heart1[25,]"
      ],
      "metadata": {
        "colab": {
          "base_uri": "https://localhost:8080/",
          "height": 129
        },
        "id": "G_pkHqv6Y2bI",
        "outputId": "f2a94051-10e4-418e-bc36-ed99260bccd6"
      },
      "execution_count": null,
      "outputs": [
        {
          "output_type": "display_data",
          "data": {
            "text/plain": [
              "   start stop event age       year     surgery transplant id u \n",
              "40 25    1800 0     -14.77618 1.574264 0       1          25 25"
            ],
            "text/latex": "A data.frame: 1 × 9\n\\begin{tabular}{r|lllllllll}\n  & start & stop & event & age & year & surgery & transplant & id & u\\\\\n  & <dbl> & <dbl> & <dbl> & <dbl> & <dbl> & <dbl> & <fct> & <dbl> & <dbl>\\\\\n\\hline\n\t40 & 25 & 1800 & 0 & -14.77618 & 1.574264 & 0 & 1 & 25 & 25\\\\\n\\end{tabular}\n",
            "text/markdown": "\nA data.frame: 1 × 9\n\n| <!--/--> | start &lt;dbl&gt; | stop &lt;dbl&gt; | event &lt;dbl&gt; | age &lt;dbl&gt; | year &lt;dbl&gt; | surgery &lt;dbl&gt; | transplant &lt;fct&gt; | id &lt;dbl&gt; | u &lt;dbl&gt; |\n|---|---|---|---|---|---|---|---|---|---|\n| 40 | 25 | 1800 | 0 | -14.77618 | 1.574264 | 0 | 1 | 25 | 25 |\n\n",
            "text/html": [
              "<table class=\"dataframe\">\n",
              "<caption>A data.frame: 1 × 9</caption>\n",
              "<thead>\n",
              "\t<tr><th></th><th scope=col>start</th><th scope=col>stop</th><th scope=col>event</th><th scope=col>age</th><th scope=col>year</th><th scope=col>surgery</th><th scope=col>transplant</th><th scope=col>id</th><th scope=col>u</th></tr>\n",
              "\t<tr><th></th><th scope=col>&lt;dbl&gt;</th><th scope=col>&lt;dbl&gt;</th><th scope=col>&lt;dbl&gt;</th><th scope=col>&lt;dbl&gt;</th><th scope=col>&lt;dbl&gt;</th><th scope=col>&lt;dbl&gt;</th><th scope=col>&lt;fct&gt;</th><th scope=col>&lt;dbl&gt;</th><th scope=col>&lt;dbl&gt;</th></tr>\n",
              "</thead>\n",
              "<tbody>\n",
              "\t<tr><th scope=row>40</th><td>25</td><td>1800</td><td>0</td><td>-14.77618</td><td>1.574264</td><td>0</td><td>1</td><td>25</td><td>25</td></tr>\n",
              "</tbody>\n",
              "</table>\n"
            ]
          },
          "metadata": {}
        }
      ]
    },
    {
      "cell_type": "code",
      "source": [
        "summary(heart1$stop)\n",
        "length(which(heart1$event==0))"
      ],
      "metadata": {
        "colab": {
          "base_uri": "https://localhost:8080/",
          "height": 71
        },
        "id": "9ibLW8k8Y77c",
        "outputId": "d629fa47-29fa-4a52-d464-0579868b2f90"
      },
      "execution_count": null,
      "outputs": [
        {
          "output_type": "display_data",
          "data": {
            "text/plain": [
              "   Min. 1st Qu.  Median    Mean 3rd Qu.    Max. \n",
              "    1.0    35.5    90.0   303.9   383.5  1800.0 "
            ]
          },
          "metadata": {}
        },
        {
          "output_type": "display_data",
          "data": {
            "text/plain": [
              "[1] 24"
            ],
            "text/latex": "24",
            "text/markdown": "24",
            "text/html": [
              "24"
            ]
          },
          "metadata": {}
        }
      ]
    },
    {
      "cell_type": "code",
      "source": [
        "#t-u vector #Xi(ti) vector\n",
        "compare_ti_ui <- (t-u)\n",
        "sum(compare_ti_ui <=0)\n",
        "length(compare_ti_ui)\n",
        "Xi_ti <- compare_ti_ui\n",
        "Xi_ti[Xi_ti <= 0] <- 0\n",
        "Xi_ti[Xi_ti >0 ] <- 1"
      ],
      "metadata": {
        "id": "JMlMMO2gAPGj",
        "colab": {
          "base_uri": "https://localhost:8080/",
          "height": 52
        },
        "outputId": "ca2f28c4-be3f-4043-f1ea-e784093e269b"
      },
      "execution_count": null,
      "outputs": [
        {
          "output_type": "display_data",
          "data": {
            "text/plain": [
              "[1] 30"
            ],
            "text/latex": "30",
            "text/markdown": "30",
            "text/html": [
              "30"
            ]
          },
          "metadata": {}
        },
        {
          "output_type": "display_data",
          "data": {
            "text/plain": [
              "[1] 99"
            ],
            "text/latex": "99",
            "text/markdown": "99",
            "text/html": [
              "99"
            ]
          },
          "metadata": {}
        }
      ]
    },
    {
      "cell_type": "code",
      "metadata": {
        "id": "eNBpu_ls5cfN"
      },
      "source": [
        "#compare ti_uj matrix\n",
        "#Xj_ti matrix\n",
        "compare_ti_uj <- outer(t,u,FUN=function(x,y)(x-y)) #n*n matrix\n",
        "Xj_ti <- compare_ti_uj\n",
        "Xj_ti[Xj_ti <= 0] <- 0\n",
        "Xj_ti[Xj_ti >0 ] <- 1"
      ],
      "execution_count": null,
      "outputs": []
    },
    {
      "cell_type": "code",
      "metadata": {
        "id": "vNC5lEDp5iRP"
      },
      "source": [
        "#Yj_ti matrix\n",
        "#Yj_ti <- outer(t, t, FUN=function(x,y)(x-y))\n",
        "#Yj_ti[Yj_ti <= 0] <- 0\n",
        "#Yj_ti[Yj_ti > 0] <- 1"
      ],
      "execution_count": null,
      "outputs": []
    },
    {
      "cell_type": "code",
      "source": [
        "#reconstruct Yj_ti matrix\n",
        "Yj_ti <- outer(t, t, FUN=function(x,y)(x-y))\n",
        "Yj_ti[Yj_ti < 0] <- 0\n",
        "Yj_ti[Yj_ti > 0] <- 1\n",
        "diag(Yj_ti) <- ifelse(heart1$event== 0, 1, 0)"
      ],
      "metadata": {
        "id": "UNZlrudbez3l"
      },
      "execution_count": null,
      "outputs": []
    },
    {
      "cell_type": "code",
      "source": [
        "#Zj_ti matrix #seems like this needs to be constructed within each function\n",
        "#Zj_ti <- Xj_ti*exp(-gamma * (compare_ti_uj))"
      ],
      "metadata": {
        "id": "cz6CX509_393"
      },
      "execution_count": null,
      "outputs": []
    },
    {
      "cell_type": "code",
      "metadata": {
        "id": "g3ZB6NU_5FH8"
      },
      "source": [
        "#logLikelihood\n",
        "logL <- function(params, sigma){\n",
        "  #n <- length(t) defined before the three functions\n",
        "  b <- params[1]\n",
        "  r <- params[2]\n",
        "  \n",
        "  Zj_ti <- Xj_ti*exp(-r * (compare_ti_uj))\n",
        "\n",
        "  #first part of log Likelihood\n",
        "  \n",
        "  first_part <- sum( sigma * b * Xi_ti * exp(-r*compare_ti_ui) )\n",
        "  print(first_part)\n",
        "  \n",
        "  #second part of log Likelihood\n",
        "  inner_part <- colSums(Yj_ti * exp(b*Zj_ti)) \n",
        "  print(inner_part)\n",
        "  log_part <- log(inner_part)\n",
        "  print(log_part)\n",
        "\n",
        "  second_part <- sum(sigma*log_part)\n",
        "  print(second_part)\n",
        "  \n",
        "  return ((-first_part + second_part))\n",
        "}"
      ],
      "execution_count": null,
      "outputs": []
    },
    {
      "cell_type": "code",
      "source": [
        "logL(c(-0.294,0.001),sigma)"
      ],
      "metadata": {
        "colab": {
          "base_uri": "https://localhost:8080/",
          "height": 683
        },
        "id": "Tf9uiUanVXVZ",
        "outputId": "b3c0c4d0-4960-4f08-db33-8b70ccb7d7d8"
      },
      "execution_count": null,
      "outputs": [
        {
          "output_type": "stream",
          "name": "stdout",
          "text": [
            "[1] -11.06173\n",
            " [1] 52.8786738 70.3454989 65.9515487 56.5222159 64.2044141 73.3745693\n",
            " [7] 13.5675382 54.9723238 41.1111826 50.7823512 34.6982347 69.8240060\n",
            "[13] 42.4042085  3.7570317 78.6438473 26.0336866 59.0017074 54.4624470\n",
            "[19] 57.9893233 61.9790327  6.5261736 52.2916744 12.7633580 29.7563979\n",
            "[25]  0.9513929 28.0805394 44.9659926 59.7595777 10.9883974 65.9777885\n",
            "[31] 44.6803250  1.8888250  2.8312567 68.0182454 39.1561168 49.2023678\n",
            "[37] 71.8755916 51.6393325  3.7560888  5.5974542 73.3745693 76.3909712\n",
            "[43] 54.9723238 53.9177980  7.4292673 45.4041523 68.8088474  6.5132156\n",
            "[49]  8.2718256 26.8190755 37.9995011 31.5150336 73.3745693 50.0460974\n",
            "[55] 10.0562435 34.6978439 22.8293743 10.9268804 47.8372044 76.3909712\n",
            "[61] 46.4663525 12.7348228 16.9994418 43.9626218 60.2889492 26.7218650\n",
            "[67] 47.8372044 15.3408397 61.4001747 16.1570828 17.0532890 40.8101215\n",
            "[73] 65.1467928 76.3909712 18.6536360 62.6724018 19.0719444 39.7590610\n",
            "[79] 20.3621932 21.2383787 43.0434283 25.1968878 72.3610608 22.0525604\n",
            "[85] 36.7905294 22.7997988 30.2450300 31.6415377 22.4943069 23.3703606\n",
            "[91] 29.2206681 34.0444569 65.9373496 33.9954299 37.0401920 38.0495116\n",
            "[97] 62.6724018 57.2438278 70.3454989\n",
            " [1]  3.96800012  4.25341880  4.18892036  4.03463376  4.16207196  4.29557741\n",
            " [7]  2.60768004  4.00682986  3.71628017  3.92754888  3.54668881  4.24597788\n",
            "[13]  3.74724761  1.32362922  4.36492940  3.25939134  4.07756638  3.99751142\n",
            "[19]  4.06025891  4.12679615  1.87582079  3.95683717  2.54657841  3.39304417\n",
            "[25] -0.04982813  3.33507679  3.80590648  4.09032947  2.39683993  4.18931815\n",
            "[31]  3.79953325  0.63595495  1.04072068  4.21977598  3.66755665  3.89594175\n",
            "[37]  4.27493673  3.94428364  1.32337820  1.72231189  4.29557741  4.33586451\n",
            "[43]  4.00682986  3.98746063  2.00542724  3.81560356  4.23133233  1.87383328\n",
            "[49]  2.11285524  3.28911340  3.63757303  3.45046469  4.29557741  3.91294453\n",
            "[55]  2.30819369  3.54667755  3.12804805  2.39122584  3.86780367  4.33586451\n",
            "[61]  3.83872845  2.54434019  2.83318051  3.78333977  4.09914882  3.28548214\n",
            "[67]  3.86780367  2.73051853  4.11741268  2.78235852  2.83634309  3.70893013\n",
            "[73]  4.17664308  4.33586451  2.92604109  4.13792119  2.94821838  3.68283776\n",
            "[79]  3.01367991  3.05580986  3.76220957  3.22672049  4.28166832  3.09342871\n",
            "[85]  3.60524046  3.12675171  3.40933187  3.45447074  3.11326225  3.15146858\n",
            "[91]  3.37487627  3.52766723  4.18870504  3.52622610  3.61200359  3.63888825\n",
            "[97]  4.13792119  4.04731982  4.25341880\n",
            "[1] 278.3857\n"
          ]
        },
        {
          "output_type": "display_data",
          "data": {
            "text/plain": [
              "[1] 289.4474"
            ],
            "text/latex": "289.447398048621",
            "text/markdown": "289.447398048621",
            "text/html": [
              "289.447398048621"
            ]
          },
          "metadata": {}
        }
      ]
    },
    {
      "cell_type": "code",
      "metadata": {
        "id": "w570K8tr5BGM"
      },
      "source": [
        "g_gamma = function(params, sigma, t, u){ \n",
        "  n <- length(t)\n",
        "  b <- params[1]\n",
        "  r <- params[2]\n",
        "\n",
        "  Zj_ti <- Xj_ti*exp(-r * (compare_ti_uj))\n",
        "  first_part <- (-1) * sum(sigma * b * diag(Xj_ti) * compare_ti_uj * exp(-r*compare_ti_uj) )\n",
        "  print(first_part)\n",
        "  \n",
        "  #num <- colSums(Yj_ti * Xj_ti * exp(b * Zj_ti- r * compare_ti_uj))\n",
        "  num <- colSums(Yj_ti * Xj_ti * exp(b * Zj_ti - r * compare_ti_uj))\n",
        "  denom <- colSums(Yj_ti * exp(b * Zj_ti))\n",
        "  sec_part <- b * sum(sigma * (num / denom))\n",
        "  print(sec_part)\n",
        "  \n",
        "  return(first_part + sec_part)\n",
        "}"
      ],
      "execution_count": null,
      "outputs": []
    },
    {
      "cell_type": "code",
      "source": [
        "g_gamma(c(0,0.001),sigma, t,u)"
      ],
      "metadata": {
        "colab": {
          "base_uri": "https://localhost:8080/",
          "height": 71
        },
        "id": "u7EJulj4Vkoq",
        "outputId": "e619cff7-e802-4958-dc21-7b3df3917b0a"
      },
      "execution_count": null,
      "outputs": [
        {
          "output_type": "stream",
          "name": "stdout",
          "text": [
            "[1] 0\n",
            "[1] 0\n"
          ]
        },
        {
          "output_type": "display_data",
          "data": {
            "text/plain": [
              "[1] 0"
            ],
            "text/latex": "0",
            "text/markdown": "0",
            "text/html": [
              "0"
            ]
          },
          "metadata": {}
        }
      ]
    },
    {
      "cell_type": "code",
      "metadata": {
        "id": "LtbVOvTT5A9K"
      },
      "source": [
        "b.derivative = function(params, sigma){\n",
        "  b = params[1]\n",
        "  r = params[2]\n",
        "\n",
        "  Zj_ti = exp(-r*compare_ti_uj)*Xj_ti\n",
        "  #first part of beta derivative\n",
        "  A = b*Zj_ti\n",
        "  first_part = sum(sigma*diag(A))\n",
        "  \n",
        "  exp.A = exp(A)\n",
        "  yexp.A = Yj_ti*exp.A\n",
        "  #denominator of the second part\n",
        "  denom = colSums(yexp.A)\n",
        "    \n",
        "  #numerator of the second part\n",
        "  num = colSums(yexp.A*Zj_ti)\n",
        "\n",
        "  #second part of beta derivative\n",
        "  second_part = sum(sigma*num/denom)\n",
        "\n",
        "  return (first_part - second_part)\n",
        "}\n"
      ],
      "execution_count": null,
      "outputs": []
    },
    {
      "cell_type": "code",
      "source": [
        "b.derivative(c(0,0.001), sigma)"
      ],
      "metadata": {
        "colab": {
          "base_uri": "https://localhost:8080/",
          "height": 35
        },
        "id": "B0KgSTfPVwUj",
        "outputId": "e2aff5be-1d99-4e54-d341-9e508772a281"
      },
      "execution_count": null,
      "outputs": [
        {
          "output_type": "display_data",
          "data": {
            "text/plain": [
              "[1] -48.17366"
            ],
            "text/latex": "-48.1736571685039",
            "text/markdown": "-48.1736571685039",
            "text/html": [
              "-48.1736571685039"
            ]
          },
          "metadata": {}
        }
      ]
    },
    {
      "cell_type": "code",
      "source": [
        "library(Matrix)\n",
        "exp_decay_mod <- function(params_ini=c(0, 0.001), sigma, t, u){\n",
        "  n <- length(t)\n",
        "  sigma <- sigma\n",
        "  #t-u vector #Xi(ti) vector\n",
        "  compare_ti_ui <- (t-u)\n",
        "  Xi_ti <- compare_ti_ui\n",
        "  Xi_ti[Xi_ti <= 0] <- 0\n",
        "  Xi_ti[Xi_ti > 0 ] <- 1\n",
        "\n",
        "  #compare ti_uj matrix\n",
        "  #Xj_ti matrix\n",
        "  compare_ti_uj <- outer(t,u,FUN=function(x,y)(x-y)) #n*n matrix\n",
        "  Xj_ti <- compare_ti_uj\n",
        "  Xj_ti[Xj_ti <= 0] <- 0\n",
        "  Xj_ti[Xj_ti > 0 ] <- 1\n",
        "\n",
        "  #Yj_ti matrix\n",
        "  Yj_ti <- outer(t, t, FUN=function(x,y)(x-y))\n",
        "  Yj_ti[Yj_ti < 0] <- 0\n",
        "  Yj_ti[Yj_ti > 0] <- 1\n",
        "  diag(Yj_ti) <- ifelse(heart1$event==0, 1, 0)\n",
        "\n",
        "  ###############\n",
        "  #making Xj_ti and Yj_ti into sparse matrices\n",
        "  ###############\n",
        "  Xj_ti = as(Xj_ti,\"RsparseMatrix\")\n",
        "  Yj_ti = as(Yj_ti,\"RsparseMatrix\")\n",
        "  \n",
        "  ####################################\n",
        "  #logLikelihood\n",
        "  logL <- function(params){\n",
        "    #n <- length(t) defined before the three functions\n",
        "    b <- params[1]\n",
        "    r <- params[2]\n",
        "  \n",
        "    Zj_ti <- Xj_ti*exp(-r * (compare_ti_uj))\n",
        "    Zj_ti = as(Zj_ti,\"RsparseMatrix\")\n",
        "\n",
        "    #first part of log Likelihood\n",
        "    #first_part <- sum( sigma * b * Xi_ti * exp(-r*compare_ti_ui) )\n",
        "    first_part <- sum( sigma * b * diag(Zj_ti) )\n",
        "  \n",
        "    #second part of log Likelihood\n",
        "    inner_part <- colSums(Yj_ti * exp(b*Zj_ti)) \n",
        "    log_part <- log(inner_part)\n",
        "    #print(inner_part)\n",
        "\n",
        "    second_part <- sum(sigma*log_part)\n",
        "    #print(second_part)\n",
        "  \n",
        "    return (-first_part + second_part)\n",
        "  }\n",
        "  \n",
        "  ######################################\n",
        "  #gradient with respect to gamma\n",
        "  g_gamma = function(params){ \n",
        "    #n <- length(t)\n",
        "    b <- params[1]\n",
        "    r <- params[2]\n",
        "\n",
        "    Zj_ti <- Xj_ti*exp(-r * (compare_ti_uj))\n",
        "    Zj_ti = as(Zj_ti,\"RsparseMatrix\")\n",
        "\n",
        "    first_part <- (-1) * sum(sigma * b * diag(Zj_ti) * compare_ti_ui )\n",
        "  \n",
        "    num <- colSums(Yj_ti * Xj_ti * exp(b * Zj_ti - r * compare_ti_uj))\n",
        "    denom <- colSums(Yj_ti * exp(b * Zj_ti))\n",
        "    sec_part <- b * sum(sigma* (num / denom))\n",
        "  \n",
        "    return(first_part + sec_part)\n",
        "  }\n",
        "\n",
        "  ########################################\n",
        "  #gradient with respect to beta\n",
        "  b.derivative = function(params){\n",
        "    b = params[1]\n",
        "    r = params[2]\n",
        "\n",
        "    Zj_ti = exp(-r*compare_ti_uj)*Xj_ti\n",
        "    Zj_ti = as(Zj_ti,\"RsparseMatrix\")\n",
        "    #first part of beta derivative\n",
        "    A = b*Zj_ti\n",
        "    first_part = sum(sigma*diag(Zj_ti))\n",
        "  \n",
        "    exp.A = exp(A)\n",
        "    yexp.A = Yj_ti*exp.A\n",
        "    #denominator of the second part\n",
        "    #denom = apply(yexp.A,2,sum)\n",
        "    denom = colSums(yexp.A)\n",
        "  \n",
        "    #numerator of the second part\n",
        "    #num = apply(yexp.A*Zj_ti,2,sum)\n",
        "    num = colSums(yexp.A*Zj_ti)\n",
        "\n",
        "    #second part of beta derivative\n",
        "    second_part = sum(sigma*num/denom)\n",
        "\n",
        "    return (first_part - second_part)\n",
        "  }\n",
        "\n",
        "  gradients <- function(params){\n",
        "    #b <- params[1]\n",
        "    #r <- params[2]\n",
        "    return ( c(b.derivative(params), g_gamma(params)) )\n",
        "  }\n",
        "\n",
        "  #########apply nlminb optimization\n",
        "  opt <- nlminb(start = params_ini, objective = logL, gradient = gradients, lower=c(-Inf,0),upper=c(+Inf, 1), control = list(step.min=0.01, step.max=1, xf.tol=1e-6))\n",
        "  #opt <- nlminb(start = params_ini, objective = logL, lower=0, control=list(trace=TRUE))\n",
        "  \n",
        "  print(opt$par)\n",
        "  return (opt)\n",
        "\n",
        "\n",
        "}"
      ],
      "metadata": {
        "id": "VMkuO6443Iv6"
      },
      "execution_count": null,
      "outputs": []
    },
    {
      "cell_type": "code",
      "source": [
        "# Import dataset: use jasa1\n",
        "data(heart, package=\"survival\")"
      ],
      "metadata": {
        "id": "DbSyDH9fOiTv"
      },
      "execution_count": null,
      "outputs": []
    },
    {
      "cell_type": "code",
      "source": [
        "heart1 <- heart[-which(heart$event==0 & heart$transplant==0),]\n",
        "heart1$u = ifelse(heart1$transplant == 0, heart1$stop+1, heart1$start)\n",
        "head(heart1)"
      ],
      "metadata": {
        "colab": {
          "base_uri": "https://localhost:8080/",
          "height": 286
        },
        "id": "IzOUESYyOoNn",
        "outputId": "4e833f62-1873-4ff6-9fd1-b7a3cbbf2340"
      },
      "execution_count": null,
      "outputs": [
        {
          "output_type": "display_data",
          "data": {
            "text/plain": [
              "  start stop event age        year      surgery transplant id u \n",
              "1  0    50   1     -17.155373 0.1232033 0       0          1  51\n",
              "2  0     6   1       3.835729 0.2546201 0       0          2   7\n",
              "4  1    16   1       6.297057 0.2655715 0       1          3   1\n",
              "6 36    39   1      -7.737166 0.4900753 0       1          4  36\n",
              "7  0    18   1     -27.214237 0.6078029 0       0          5  19\n",
              "8  0     3   1       6.595483 0.7008898 0       0          6   4"
            ],
            "text/latex": "A data.frame: 6 × 9\n\\begin{tabular}{r|lllllllll}\n  & start & stop & event & age & year & surgery & transplant & id & u\\\\\n  & <dbl> & <dbl> & <dbl> & <dbl> & <dbl> & <dbl> & <fct> & <dbl> & <dbl>\\\\\n\\hline\n\t1 &  0 & 50 & 1 & -17.155373 & 0.1232033 & 0 & 0 & 1 & 51\\\\\n\t2 &  0 &  6 & 1 &   3.835729 & 0.2546201 & 0 & 0 & 2 &  7\\\\\n\t4 &  1 & 16 & 1 &   6.297057 & 0.2655715 & 0 & 1 & 3 &  1\\\\\n\t6 & 36 & 39 & 1 &  -7.737166 & 0.4900753 & 0 & 1 & 4 & 36\\\\\n\t7 &  0 & 18 & 1 & -27.214237 & 0.6078029 & 0 & 0 & 5 & 19\\\\\n\t8 &  0 &  3 & 1 &   6.595483 & 0.7008898 & 0 & 0 & 6 &  4\\\\\n\\end{tabular}\n",
            "text/markdown": "\nA data.frame: 6 × 9\n\n| <!--/--> | start &lt;dbl&gt; | stop &lt;dbl&gt; | event &lt;dbl&gt; | age &lt;dbl&gt; | year &lt;dbl&gt; | surgery &lt;dbl&gt; | transplant &lt;fct&gt; | id &lt;dbl&gt; | u &lt;dbl&gt; |\n|---|---|---|---|---|---|---|---|---|---|\n| 1 |  0 | 50 | 1 | -17.155373 | 0.1232033 | 0 | 0 | 1 | 51 |\n| 2 |  0 |  6 | 1 |   3.835729 | 0.2546201 | 0 | 0 | 2 |  7 |\n| 4 |  1 | 16 | 1 |   6.297057 | 0.2655715 | 0 | 1 | 3 |  1 |\n| 6 | 36 | 39 | 1 |  -7.737166 | 0.4900753 | 0 | 1 | 4 | 36 |\n| 7 |  0 | 18 | 1 | -27.214237 | 0.6078029 | 0 | 0 | 5 | 19 |\n| 8 |  0 |  3 | 1 |   6.595483 | 0.7008898 | 0 | 0 | 6 |  4 |\n\n",
            "text/html": [
              "<table class=\"dataframe\">\n",
              "<caption>A data.frame: 6 × 9</caption>\n",
              "<thead>\n",
              "\t<tr><th></th><th scope=col>start</th><th scope=col>stop</th><th scope=col>event</th><th scope=col>age</th><th scope=col>year</th><th scope=col>surgery</th><th scope=col>transplant</th><th scope=col>id</th><th scope=col>u</th></tr>\n",
              "\t<tr><th></th><th scope=col>&lt;dbl&gt;</th><th scope=col>&lt;dbl&gt;</th><th scope=col>&lt;dbl&gt;</th><th scope=col>&lt;dbl&gt;</th><th scope=col>&lt;dbl&gt;</th><th scope=col>&lt;dbl&gt;</th><th scope=col>&lt;fct&gt;</th><th scope=col>&lt;dbl&gt;</th><th scope=col>&lt;dbl&gt;</th></tr>\n",
              "</thead>\n",
              "<tbody>\n",
              "\t<tr><th scope=row>1</th><td> 0</td><td>50</td><td>1</td><td>-17.155373</td><td>0.1232033</td><td>0</td><td>0</td><td>1</td><td>51</td></tr>\n",
              "\t<tr><th scope=row>2</th><td> 0</td><td> 6</td><td>1</td><td>  3.835729</td><td>0.2546201</td><td>0</td><td>0</td><td>2</td><td> 7</td></tr>\n",
              "\t<tr><th scope=row>4</th><td> 1</td><td>16</td><td>1</td><td>  6.297057</td><td>0.2655715</td><td>0</td><td>1</td><td>3</td><td> 1</td></tr>\n",
              "\t<tr><th scope=row>6</th><td>36</td><td>39</td><td>1</td><td> -7.737166</td><td>0.4900753</td><td>0</td><td>1</td><td>4</td><td>36</td></tr>\n",
              "\t<tr><th scope=row>7</th><td> 0</td><td>18</td><td>1</td><td>-27.214237</td><td>0.6078029</td><td>0</td><td>0</td><td>5</td><td>19</td></tr>\n",
              "\t<tr><th scope=row>8</th><td> 0</td><td> 3</td><td>1</td><td>  6.595483</td><td>0.7008898</td><td>0</td><td>0</td><td>6</td><td> 4</td></tr>\n",
              "</tbody>\n",
              "</table>\n"
            ]
          },
          "metadata": {}
        }
      ]
    },
    {
      "cell_type": "code",
      "source": [
        "u_s <- heart1$u\n",
        "t_s <- heart1$stop\n",
        "n <- length(t)\n",
        "sigma_s <- heart1$event"
      ],
      "metadata": {
        "id": "JIiv49jQOrAy"
      },
      "execution_count": null,
      "outputs": []
    },
    {
      "cell_type": "code",
      "source": [
        "exp_decay_mod(c(-1.1471,0.001),sigma=sigma_s, t=t_s, u=u_s)"
      ],
      "metadata": {
        "colab": {
          "base_uri": "https://localhost:8080/",
          "height": 272
        },
        "id": "Pp0h0xZMOIn3",
        "outputId": "0d34c47a-4527-43f1-c9ea-74d93d265e99"
      },
      "execution_count": 20,
      "outputs": [
        {
          "output_type": "stream",
          "name": "stdout",
          "text": [
            "[1] -1.138099  0.000000\n"
          ]
        },
        {
          "output_type": "display_data",
          "data": {
            "text/plain": [
              "$par\n",
              "[1] -1.138099  0.000000\n",
              "\n",
              "$objective\n",
              "[1] 258.6807\n",
              "\n",
              "$convergence\n",
              "[1] 1\n",
              "\n",
              "$iterations\n",
              "[1] 2\n",
              "\n",
              "$evaluations\n",
              "function gradient \n",
              "      10        2 \n",
              "\n",
              "$message\n",
              "[1] \"false convergence (8)\"\n"
            ],
            "text/latex": "\\begin{description}\n\\item[\\$par] \\begin{enumerate*}\n\\item -1.13809905508614\n\\item 0\n\\end{enumerate*}\n\n\\item[\\$objective] 258.680682528411\n\\item[\\$convergence] 1\n\\item[\\$iterations] 2\n\\item[\\$evaluations] \\begin{description*}\n\\item[function] 10\n\\item[gradient] 2\n\\end{description*}\n\n\\item[\\$message] 'false convergence (8)'\n\\end{description}\n",
            "text/markdown": "$par\n:   1. -1.13809905508614\n2. 0\n\n\n\n$objective\n:   258.680682528411\n$convergence\n:   1\n$iterations\n:   2\n$evaluations\n:   function\n:   10gradient\n:   2\n\n\n$message\n:   'false convergence (8)'\n\n\n",
            "text/html": [
              "<dl>\n",
              "\t<dt>$par</dt>\n",
              "\t\t<dd><style>\n",
              ".list-inline {list-style: none; margin:0; padding: 0}\n",
              ".list-inline>li {display: inline-block}\n",
              ".list-inline>li:not(:last-child)::after {content: \"\\00b7\"; padding: 0 .5ex}\n",
              "</style>\n",
              "<ol class=list-inline><li>-1.13809905508614</li><li>0</li></ol>\n",
              "</dd>\n",
              "\t<dt>$objective</dt>\n",
              "\t\t<dd>258.680682528411</dd>\n",
              "\t<dt>$convergence</dt>\n",
              "\t\t<dd>1</dd>\n",
              "\t<dt>$iterations</dt>\n",
              "\t\t<dd>2</dd>\n",
              "\t<dt>$evaluations</dt>\n",
              "\t\t<dd><style>\n",
              ".dl-inline {width: auto; margin:0; padding: 0}\n",
              ".dl-inline>dt, .dl-inline>dd {float: none; width: auto; display: inline-block}\n",
              ".dl-inline>dt::after {content: \":\\0020\"; padding-right: .5ex}\n",
              ".dl-inline>dt:not(:first-of-type) {padding-left: .5ex}\n",
              "</style><dl class=dl-inline><dt>function</dt><dd>10</dd><dt>gradient</dt><dd>2</dd></dl>\n",
              "</dd>\n",
              "\t<dt>$message</dt>\n",
              "\t\t<dd>'false convergence (8)'</dd>\n",
              "</dl>\n"
            ]
          },
          "metadata": {}
        }
      ]
    },
    {
      "cell_type": "code",
      "source": [
        "library(survival)\n",
        "summary(coxph(Surv(start, stop, event) ~ transplant, heart1))"
      ],
      "metadata": {
        "id": "5mC23NdaS6jL",
        "colab": {
          "base_uri": "https://localhost:8080/",
          "height": 329
        },
        "outputId": "2e65a93b-bed1-4cfe-f046-68814159ac4b"
      },
      "execution_count": 25,
      "outputs": [
        {
          "output_type": "display_data",
          "data": {
            "text/plain": [
              "Call:\n",
              "coxph(formula = Surv(start, stop, event) ~ transplant, data = heart1)\n",
              "\n",
              "  n= 99, number of events= 75 \n",
              "\n",
              "               coef exp(coef) se(coef)      z Pr(>|z|)    \n",
              "transplant1 -1.1471    0.3176   0.3012 -3.808  0.00014 ***\n",
              "---\n",
              "Signif. codes:  0 ‘***’ 0.001 ‘**’ 0.01 ‘*’ 0.05 ‘.’ 0.1 ‘ ’ 1\n",
              "\n",
              "            exp(coef) exp(-coef) lower .95 upper .95\n",
              "transplant1    0.3176      3.149     0.176    0.5731\n",
              "\n",
              "Concordance= 0.585  (se = 0.018 )\n",
              "Likelihood ratio test= 13.43  on 1 df,   p=2e-04\n",
              "Wald test            = 14.5  on 1 df,   p=1e-04\n",
              "Score (logrank) test = 15  on 1 df,   p=1e-04\n"
            ]
          },
          "metadata": {}
        }
      ]
    },
    {
      "cell_type": "code",
      "source": [
        "Surv(jasa1$start, jasa1$stop, jasa1$event)"
      ],
      "metadata": {
        "colab": {
          "base_uri": "https://localhost:8080/",
          "height": 806
        },
        "id": "CHqstIIkOcmx",
        "outputId": "0d642870-b90e-4dea-e1a9-478c1faf6aa6"
      },
      "execution_count": 23,
      "outputs": [
        {
          "output_type": "display_data",
          "data": {
            "text/plain": [
              "  [1] (  0.0,  49.0]  (  0.0,   5.0]  (  0.0,  15.0]  (  0.0,  35.0+]\n",
              "  [5] ( 35.0,  38.0]  (  0.0,  17.0]  (  0.0,   2.0]  (  0.0,  50.0+]\n",
              "  [9] ( 50.0, 674.0]  (  0.0,  39.0]  (  0.0,  84.0]  (  0.0,  11.0+]\n",
              " [13] ( 11.0,  57.0]  (  0.0,  25.0+] ( 25.0, 152.0]  (  0.0,   7.0] \n",
              " [17] (  0.0,  16.0+] ( 16.0,  80.0]  (  0.0,  36.0+] ( 36.0,1386.0] \n",
              " [21] (  0.0,   0.5]  (  0.0,  27.0+] ( 27.0, 307.0]  (  0.0,  35.0] \n",
              " [25] (  0.0,  19.0+] ( 19.0,  42.0]  (  0.0,  36.0]  (  0.0,  17.0+]\n",
              " [29] ( 17.0,  27.0]  (  0.0,   7.0+] (  7.0,1031.0]  (  0.0,  11.0+]\n",
              " [33] ( 11.0,  50.0]  (  0.0,   2.0+] (  2.0, 732.0]  (  0.0,  82.0+]\n",
              " [37] ( 82.0, 218.0]  (  0.0,  24.0+] ( 24.0,1799.0+] (  0.0,1400.0+]\n",
              " [41] (  0.0, 262.0]  (  0.0,  70.0+] ( 70.0,  71.0]  (  0.0,  34.0] \n",
              " [45] (  0.0,  15.0+] ( 15.0, 851.0]  (  0.0,  15.0]  (  0.0,  16.0+]\n",
              " [49] ( 16.0,  76.0]  (  0.0,  50.0+] ( 50.0,1586.0+] (  0.0,  22.0+]\n",
              " [53] ( 22.0,1571.0+] (  0.0,  11.0]  (  0.0,  45.0+] ( 45.0,  99.0] \n",
              " [57] (  0.0,  18.0+] ( 18.0,  65.0]  (  0.0,   3.5+] (  3.5,   4.0] \n",
              " [61] (  0.0,   1.0+] (  1.0,  52.0]  (  0.0,  40.0+] ( 40.0,1407.0+]\n",
              " [65] (  0.0,  57.0+] ( 57.0,1321.0+] (  0.0,   2.0]  (  0.0,   1.0] \n",
              " [69] (  0.0,  39.0]  (  0.0,  44.0]  (  0.0,   1.0+] (  1.0, 995.0] \n",
              " [73] (  0.0,  20.0+] ( 20.0,  71.0]  (  0.0,   8.0]  (  0.0,  35.0+]\n",
              " [77] ( 35.0,1141.0+] (  0.0,  82.0+] ( 82.0, 979.0]  (  0.0,  31.0+]\n",
              " [81] ( 31.0, 284.0]  (  0.0, 101.0]  (  0.0,  40.0+] ( 40.0, 187.0] \n",
              " [85] (  0.0,   2.0]  (  0.0,   9.0+] (  9.0,  60.0]  (  0.0,  66.0+]\n",
              " [89] ( 66.0, 941.0+] (  0.0, 148.0]  (  0.0,  20.0+] ( 20.0, 342.0] \n",
              " [93] (  0.0,  77.0+] ( 77.0, 915.0+] (  0.0,   2.0+] (  2.0,  67.0] \n",
              " [97] (  0.0,   1.0]  (  0.0,  68.0]  (  0.0,  26.0+] ( 26.0, 841.0+]\n",
              "[101] (  0.0,  32.0+] ( 32.0, 583.0]  (  0.0,  11.0+] ( 11.0,  77.0] \n",
              "[105] (  0.0,  31.0]  (  0.0,  56.0+] ( 56.0, 284.0]  (  0.0,   2.0+]\n",
              "[109] (  2.0,  67.0]  (  0.0,   9.0+] (  9.0, 669.0+] (  0.0,   4.0+]\n",
              "[113] (  4.0,  29.0]  (  0.0,  30.0+] ( 30.0, 619.0+] (  0.0,   3.0+]\n",
              "[117] (  3.0, 595.0+] (  0.0,  26.0+] ( 26.0,  89.0]  (  0.0,   4.0+]\n",
              "[121] (  4.0,  16.0]  (  0.0,   1.0]  (  0.0,  45.0+] ( 45.0, 544.0+]\n",
              "[125] (  0.0,  20.0]  (  0.0, 209.0+] (209.0, 514.0+] (  0.0,  66.0+]\n",
              "[129] ( 66.0,  95.0]  (  0.0,  25.0+] ( 25.0, 481.0+] (  0.0,   5.0+]\n",
              "[133] (  5.0, 444.0+] (  0.0, 427.0+] (  0.0,  31.0+] ( 31.0,  79.0] \n",
              "[137] (  0.0,  36.0+] ( 36.0, 333.0]  (  0.0,   4.0]  (  0.0,   7.0+]\n",
              "[141] (  7.0, 396.0+] (  0.0,  59.0+] ( 59.0, 109.0]  (  0.0,  30.0+]\n",
              "[145] ( 30.0, 369.0+] (  0.0, 138.0+] (138.0, 206.0]  (  0.0, 159.0+]\n",
              "[149] (159.0, 185.0]  (  0.0, 339.0]  (  0.0, 309.0+] (309.0, 339.0+]\n",
              "[153] (  0.0,  27.0+] ( 27.0, 264.0+] (  0.0,   3.0+] (  3.0, 164.0] \n",
              "[157] (  0.0,   1.0+] (  1.0,  15.0]  (  0.0,  12.0+] ( 12.0, 179.0+]\n",
              "[161] (  0.0,  20.0+] ( 20.0, 130.0+] (  0.0,  95.0+] ( 95.0, 108.0+]\n",
              "[165] (  0.0,  20.0]  (  0.0,  37.0+] ( 37.0,  38.0+] (  0.0,  30.0+]\n",
              "[169] (  0.0,  10.0+] (  0.0,   5.0] "
            ]
          },
          "metadata": {}
        }
      ]
    }
  ]
}